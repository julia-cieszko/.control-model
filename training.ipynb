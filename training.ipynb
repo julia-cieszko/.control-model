{
  "cells": [
    {
      "cell_type": "code",
      "source": [
        "!python --version"
      ],
      "metadata": {
        "id": "CabV-5NJudSh"
      },
      "id": "CabV-5NJudSh",
      "execution_count": null,
      "outputs": []
    },
    {
      "cell_type": "code",
      "execution_count": null,
      "id": "9f5fcefb",
      "metadata": {
        "execution": {
          "iopub.execute_input": "2023-03-16T20:35:52.957364Z",
          "iopub.status.busy": "2023-03-16T20:35:52.956532Z",
          "iopub.status.idle": "2023-03-16T20:35:59.800950Z",
          "shell.execute_reply": "2023-03-16T20:35:59.799976Z"
        },
        "papermill": {
          "duration": 6.858776,
          "end_time": "2023-03-16T20:35:59.803912",
          "exception": false,
          "start_time": "2023-03-16T20:35:52.945136",
          "status": "completed"
        },
        "tags": [],
        "id": "9f5fcefb"
      },
      "outputs": [],
      "source": [
        "import pathlib\n",
        "import tensorflow as tf\n",
        "import matplotlib.pyplot as plt\n",
        "import numpy as np\n",
        "import pandas as pd\n",
        "import os\n",
        "import PIL\n",
        "from zipfile import ZipFile\n",
        "from tensorflow import keras\n",
        "from tensorflow.keras import layers\n",
        "from tensorflow.keras.models import Sequential\n",
        "from keras.layers import Dense, Dropout, Flatten, Conv2D, MaxPool2D\n",
        "from tensorflow.keras.optimizers import Adam\n",
        "import random\n",
        "from glob import glob\n",
        "import seaborn as sns\n",
        "from tensorflow.keras.losses import SparseCategoricalCrossentropy\n",
        "import matplotlib.image as img\n",
        "import warnings\n",
        "import shutil\n",
        "warnings.filterwarnings('ignore')\n",
        "os.environ['TF_CPP_MIN_LOG_LEVEL'] = '3'\n",
        "tf.compat.v1.logging.set_verbosity(tf.compat.v1.logging.ERROR)"
      ]
    },
    {
      "cell_type": "code",
      "execution_count": null,
      "id": "d9a144cf",
      "metadata": {
        "execution": {
          "iopub.execute_input": "2023-03-16T20:35:59.825201Z",
          "iopub.status.busy": "2023-03-16T20:35:59.824667Z",
          "iopub.status.idle": "2023-03-16T20:36:00.085856Z",
          "shell.execute_reply": "2023-03-16T20:36:00.084783Z"
        },
        "papermill": {
          "duration": 0.274319,
          "end_time": "2023-03-16T20:36:00.088334",
          "exception": false,
          "start_time": "2023-03-16T20:35:59.814015",
          "status": "completed"
        },
        "tags": [],
        "id": "d9a144cf"
      },
      "outputs": [],
      "source": [
        "gpus = tf.config.experimental.list_physical_devices('GPU')\n",
        "try:\n",
        "    tf.config.experimental.set_memory_growth = True\n",
        "except Exception as ex:\n",
        "    print(e)"
      ]
    },
    {
      "cell_type": "code",
      "source": [
        "from google.colab import drive\n",
        "drive.mount('/content/drive')"
      ],
      "metadata": {
        "id": "v10j4aEhRTtS"
      },
      "id": "v10j4aEhRTtS",
      "execution_count": null,
      "outputs": []
    },
    {
      "cell_type": "code",
      "source": [
        "with ZipFile(\"/content/drive/MyDrive/archive.zip\", \"r\") as f:\n",
        "    f.extractall(path=\"/content/images/\")"
      ],
      "metadata": {
        "id": "E78p0D8URmXt"
      },
      "id": "E78p0D8URmXt",
      "execution_count": null,
      "outputs": []
    },
    {
      "cell_type": "code",
      "source": [
        "os.mkdir(\"/content/images/Skin cancer ISIC The International Skin Imaging Collaboration/Train/not-melanoma/\")\n",
        "\n",
        "for _, dirs, _ in os.walk(\"/content/images/Skin cancer ISIC The International Skin Imaging Collaboration/Train/\"):\n",
        "    if len(dirs) != 0:\n",
        "        for d in dirs:\n",
        "            if d == \"melanoma\" or d == \"not-melanoma\":\n",
        "                continue\n",
        "            for _, _, files in os.walk(f\"/content/images/Skin cancer ISIC The International Skin Imaging Collaboration/Train/{d}\"):\n",
        "                for f in files:\n",
        "                    shutil.move(f\"/content/images/Skin cancer ISIC The International Skin Imaging Collaboration/Train/{d}/{f}\", f\"/content/images/Skin cancer ISIC The International Skin Imaging Collaboration/Train/not-melanoma/{f}\")\n",
        "            shutil.rmtree(f\"/content/images/Skin cancer ISIC The International Skin Imaging Collaboration/Train/{d}\")\n",
        "\n"
      ],
      "metadata": {
        "id": "E9DI8UvuEXWh"
      },
      "id": "E9DI8UvuEXWh",
      "execution_count": null,
      "outputs": []
    },
    {
      "cell_type": "code",
      "source": [
        "os.mkdir(\"/content/images/Skin cancer ISIC The International Skin Imaging Collaboration/Test/not-melanoma/\")\n",
        "\n",
        "for _, dirs, _ in os.walk(\"/content/images/Skin cancer ISIC The International Skin Imaging Collaboration/Test/\"):\n",
        "    if len(dirs) != 0:\n",
        "        for d in dirs:\n",
        "            if d == \"melanoma\" or d == \"not-melanoma\":\n",
        "                continue\n",
        "            for _, _, files in os.walk(f\"/content/images/Skin cancer ISIC The International Skin Imaging Collaboration/Test/{d}\"):\n",
        "                for f in files:\n",
        "                    shutil.move(f\"/content/images/Skin cancer ISIC The International Skin Imaging Collaboration/Test/{d}/{f}\", f\"/content/images/Skin cancer ISIC The International Skin Imaging Collaboration/Test/not-melanoma/{f}\")\n",
        "            shutil.rmtree(f\"/content/images/Skin cancer ISIC The International Skin Imaging Collaboration/Test/{d}\")\n",
        "\n"
      ],
      "metadata": {
        "id": "n2FjcWEbJPOv"
      },
      "id": "n2FjcWEbJPOv",
      "execution_count": null,
      "outputs": []
    },
    {
      "cell_type": "code",
      "execution_count": null,
      "id": "bcb42867",
      "metadata": {
        "execution": {
          "iopub.execute_input": "2023-03-16T20:36:01.142927Z",
          "iopub.status.busy": "2023-03-16T20:36:01.142042Z",
          "iopub.status.idle": "2023-03-16T20:36:01.147929Z",
          "shell.execute_reply": "2023-03-16T20:36:01.147107Z"
        },
        "papermill": {
          "duration": 0.018702,
          "end_time": "2023-03-16T20:36:01.149957",
          "exception": false,
          "start_time": "2023-03-16T20:36:01.131255",
          "status": "completed"
        },
        "tags": [],
        "id": "bcb42867"
      },
      "outputs": [],
      "source": [
        "data_dir_train = pathlib.Path(\"images/Skin cancer ISIC The International Skin Imaging Collaboration/Train/\")\n",
        "data_dir_test = pathlib.Path(\"images/Skin cancer ISIC The International Skin Imaging Collaboration/Test/\")"
      ]
    },
    {
      "cell_type": "code",
      "execution_count": null,
      "id": "523a1eb2",
      "metadata": {
        "execution": {
          "iopub.execute_input": "2023-03-16T20:36:01.607746Z",
          "iopub.status.busy": "2023-03-16T20:36:01.607388Z",
          "iopub.status.idle": "2023-03-16T20:36:01.612310Z",
          "shell.execute_reply": "2023-03-16T20:36:01.611273Z"
        },
        "papermill": {
          "duration": 0.017126,
          "end_time": "2023-03-16T20:36:01.614288",
          "exception": false,
          "start_time": "2023-03-16T20:36:01.597162",
          "status": "completed"
        },
        "tags": [],
        "id": "523a1eb2"
      },
      "outputs": [],
      "source": [
        "batch_size = 32\n",
        "img_height = 224\n",
        "img_width = 224\n",
        "random.seed(2137)"
      ]
    },
    {
      "cell_type": "code",
      "execution_count": null,
      "id": "0cdd8270",
      "metadata": {
        "execution": {
          "iopub.execute_input": "2023-03-16T20:36:01.634650Z",
          "iopub.status.busy": "2023-03-16T20:36:01.633802Z",
          "iopub.status.idle": "2023-03-16T20:36:05.452672Z",
          "shell.execute_reply": "2023-03-16T20:36:05.451675Z"
        },
        "papermill": {
          "duration": 3.831669,
          "end_time": "2023-03-16T20:36:05.455260",
          "exception": false,
          "start_time": "2023-03-16T20:36:01.623591",
          "status": "completed"
        },
        "tags": [],
        "id": "0cdd8270"
      },
      "outputs": [],
      "source": [
        "train_ds = tf.keras.preprocessing.image_dataset_from_directory(\n",
        "  data_dir_train,\n",
        "  validation_split=0.2,\n",
        "  subset=\"training\",\n",
        "  seed=2137,\n",
        "  image_size=(img_height, img_width),\n",
        "  batch_size=batch_size)"
      ]
    },
    {
      "cell_type": "code",
      "execution_count": null,
      "id": "845c435e",
      "metadata": {
        "execution": {
          "iopub.execute_input": "2023-03-16T20:36:05.477191Z",
          "iopub.status.busy": "2023-03-16T20:36:05.476848Z",
          "iopub.status.idle": "2023-03-16T20:36:05.701324Z",
          "shell.execute_reply": "2023-03-16T20:36:05.700230Z"
        },
        "papermill": {
          "duration": 0.238753,
          "end_time": "2023-03-16T20:36:05.703881",
          "exception": false,
          "start_time": "2023-03-16T20:36:05.465128",
          "status": "completed"
        },
        "tags": [],
        "id": "845c435e"
      },
      "outputs": [],
      "source": [
        "val_ds = tf.keras.preprocessing.image_dataset_from_directory(\n",
        "  data_dir_train,\n",
        "  validation_split=0.2,\n",
        "  subset=\"validation\",\n",
        "  seed=1327,\n",
        "  image_size=(img_height, img_width),\n",
        "  batch_size=batch_size)\n"
      ]
    },
    {
      "cell_type": "code",
      "execution_count": null,
      "id": "8fccd704",
      "metadata": {
        "execution": {
          "iopub.execute_input": "2023-03-16T20:36:05.724731Z",
          "iopub.status.busy": "2023-03-16T20:36:05.724412Z",
          "iopub.status.idle": "2023-03-16T20:36:05.843272Z",
          "shell.execute_reply": "2023-03-16T20:36:05.841520Z"
        },
        "papermill": {
          "duration": 0.131558,
          "end_time": "2023-03-16T20:36:05.845423",
          "exception": false,
          "start_time": "2023-03-16T20:36:05.713865",
          "status": "completed"
        },
        "tags": [],
        "id": "8fccd704"
      },
      "outputs": [],
      "source": [
        "test_ds = tf.keras.preprocessing.image_dataset_from_directory(\n",
        "  data_dir_test,\n",
        "  validation_split=0.9,\n",
        "  subset=\"validation\",\n",
        "  seed=3721,\n",
        "  image_size=(img_height, img_width),\n",
        "  batch_size=batch_size)"
      ]
    },
    {
      "cell_type": "code",
      "execution_count": null,
      "id": "c983e8e6",
      "metadata": {
        "execution": {
          "iopub.execute_input": "2023-03-16T20:36:05.866908Z",
          "iopub.status.busy": "2023-03-16T20:36:05.866168Z",
          "iopub.status.idle": "2023-03-16T20:36:05.871322Z",
          "shell.execute_reply": "2023-03-16T20:36:05.870304Z"
        },
        "papermill": {
          "duration": 0.019447,
          "end_time": "2023-03-16T20:36:05.874764",
          "exception": false,
          "start_time": "2023-03-16T20:36:05.855317",
          "status": "completed"
        },
        "tags": [],
        "id": "c983e8e6"
      },
      "outputs": [],
      "source": [
        "class_names = train_ds.class_names\n",
        "print(class_names)"
      ]
    },
    {
      "cell_type": "code",
      "execution_count": null,
      "id": "32083b78",
      "metadata": {
        "execution": {
          "iopub.execute_input": "2023-03-16T20:36:10.576640Z",
          "iopub.status.busy": "2023-03-16T20:36:10.576273Z",
          "iopub.status.idle": "2023-03-16T20:36:10.584783Z",
          "shell.execute_reply": "2023-03-16T20:36:10.583854Z"
        },
        "papermill": {
          "duration": 0.026843,
          "end_time": "2023-03-16T20:36:10.586961",
          "exception": false,
          "start_time": "2023-03-16T20:36:10.560118",
          "status": "completed"
        },
        "tags": [],
        "id": "32083b78"
      },
      "outputs": [],
      "source": [
        "AUTOTUNE = tf.data.experimental.AUTOTUNE\n",
        "train_ds = train_ds.cache().shuffle(1000).prefetch(buffer_size=AUTOTUNE)\n",
        "val_ds = val_ds.cache().prefetch(buffer_size=AUTOTUNE)"
      ]
    },
    {
      "cell_type": "code",
      "execution_count": null,
      "id": "731ceaf9",
      "metadata": {
        "execution": {
          "iopub.execute_input": "2023-03-16T20:39:36.811848Z",
          "iopub.status.busy": "2023-03-16T20:39:36.811493Z",
          "iopub.status.idle": "2023-03-16T20:39:48.232935Z",
          "shell.execute_reply": "2023-03-16T20:39:48.231537Z"
        },
        "papermill": {
          "duration": 11.522129,
          "end_time": "2023-03-16T20:39:48.235898",
          "exception": false,
          "start_time": "2023-03-16T20:39:36.713769",
          "status": "completed"
        },
        "tags": [],
        "id": "731ceaf9"
      },
      "outputs": [],
      "source": [
        "!pip install Augmentor"
      ]
    },
    {
      "cell_type": "code",
      "execution_count": null,
      "id": "78a86cc0",
      "metadata": {
        "execution": {
          "iopub.execute_input": "2023-03-16T20:39:48.446192Z",
          "iopub.status.busy": "2023-03-16T20:39:48.445777Z",
          "iopub.status.idle": "2023-03-16T20:50:20.076668Z",
          "shell.execute_reply": "2023-03-16T20:50:20.074446Z"
        },
        "papermill": {
          "duration": 631.736926,
          "end_time": "2023-03-16T20:50:20.078697",
          "exception": false,
          "start_time": "2023-03-16T20:39:48.341771",
          "status": "completed"
        },
        "tags": [],
        "id": "78a86cc0"
      },
      "outputs": [],
      "source": [
        "path_to_training_dataset = '/content/images/Skin cancer ISIC The International Skin Imaging Collaboration/Train/'\n",
        "import Augmentor\n",
        "for c in class_names:\n",
        "    pipeline = Augmentor.Pipeline(path_to_training_dataset + c, output_directory=f\"/content/balanced/{c}/\")\n",
        "    pipeline.rotate(probability=0.7, max_left_rotation=20, max_right_rotation=20)\n",
        "    pipeline.zoom(probability=0.4, min_factor=1.1, max_factor=1.6)\n",
        "    pipeline.flip_left_right(probability=0.5)\n",
        "    pipeline.flip_top_bottom(probability=0.5)\n",
        "    pipeline.sample(1800)"
      ]
    },
    {
      "cell_type": "code",
      "execution_count": null,
      "id": "cd35aea6",
      "metadata": {
        "execution": {
          "iopub.execute_input": "2023-03-16T20:50:21.466761Z",
          "iopub.status.busy": "2023-03-16T20:50:21.466199Z",
          "iopub.status.idle": "2023-03-16T20:50:21.510094Z",
          "shell.execute_reply": "2023-03-16T20:50:21.508975Z"
        },
        "papermill": {
          "duration": 0.769914,
          "end_time": "2023-03-16T20:50:21.512344",
          "exception": false,
          "start_time": "2023-03-16T20:50:20.742430",
          "status": "completed"
        },
        "tags": [],
        "id": "cd35aea6"
      },
      "outputs": [],
      "source": [
        "output_dir = pathlib.Path('/content/balanced/')\n",
        "image_count_train = len(list(output_dir.glob('*/*.jpg')))\n",
        "print(image_count_train)"
      ]
    },
    {
      "cell_type": "code",
      "execution_count": null,
      "id": "ff9a0bb1",
      "metadata": {
        "execution": {
          "iopub.execute_input": "2023-03-16T20:50:26.170629Z",
          "iopub.status.busy": "2023-03-16T20:50:26.170253Z",
          "iopub.status.idle": "2023-03-16T20:50:26.431438Z",
          "shell.execute_reply": "2023-03-16T20:50:26.430597Z"
        },
        "papermill": {
          "duration": 0.977068,
          "end_time": "2023-03-16T20:50:26.433438",
          "exception": false,
          "start_time": "2023-03-16T20:50:25.456370",
          "status": "completed"
        },
        "tags": [],
        "id": "ff9a0bb1"
      },
      "outputs": [],
      "source": [
        "train_ds = tf.keras.preprocessing.image_dataset_from_directory(\n",
        "  output_dir,\n",
        "  seed=2137,\n",
        "  validation_split = 0.2,\n",
        "  subset = 'training',\n",
        "  image_size=(img_height, img_width),\n",
        "  batch_size=batch_size)\n"
      ]
    },
    {
      "cell_type": "code",
      "execution_count": null,
      "id": "dc6c0f2b",
      "metadata": {
        "execution": {
          "iopub.execute_input": "2023-03-16T20:50:27.810378Z",
          "iopub.status.busy": "2023-03-16T20:50:27.810014Z",
          "iopub.status.idle": "2023-03-16T20:50:28.051539Z",
          "shell.execute_reply": "2023-03-16T20:50:28.050366Z"
        },
        "papermill": {
          "duration": 0.955533,
          "end_time": "2023-03-16T20:50:28.053956",
          "exception": false,
          "start_time": "2023-03-16T20:50:27.098423",
          "status": "completed"
        },
        "tags": [],
        "id": "dc6c0f2b"
      },
      "outputs": [],
      "source": [
        "val_ds = tf.keras.preprocessing.image_dataset_from_directory(\n",
        "  output_dir,\n",
        "  seed=3127,\n",
        "  validation_split = 0.2,\n",
        "  subset = 'validation',\n",
        "  image_size=(img_height, img_width),\n",
        "  batch_size=batch_size)\n"
      ]
    },
    {
      "cell_type": "code",
      "execution_count": null,
      "id": "d305a081",
      "metadata": {
        "execution": {
          "iopub.execute_input": "2023-03-16T20:50:29.398899Z",
          "iopub.status.busy": "2023-03-16T20:50:29.398421Z",
          "iopub.status.idle": "2023-03-16T20:50:29.403857Z",
          "shell.execute_reply": "2023-03-16T20:50:29.402832Z"
        },
        "papermill": {
          "duration": 0.706724,
          "end_time": "2023-03-16T20:50:29.406878",
          "exception": false,
          "start_time": "2023-03-16T20:50:28.700154",
          "status": "completed"
        },
        "tags": [],
        "id": "d305a081"
      },
      "outputs": [],
      "source": [
        "print(train_ds.class_names)"
      ]
    },
    {
      "cell_type": "code",
      "source": [
        "num_classes = 2\n",
        "model = tf.keras.applications.densenet.DenseNet121(\n",
        "    include_top=True,\n",
        "    weights='imagenet',\n",
        "    input_tensor=None,\n",
        "    input_shape=None,\n",
        "    classifier_activation='softmax'\n",
        ")"
      ],
      "metadata": {
        "id": "nV9AJ80eAQ4q"
      },
      "id": "nV9AJ80eAQ4q",
      "execution_count": null,
      "outputs": []
    },
    {
      "cell_type": "code",
      "execution_count": null,
      "id": "62b82568",
      "metadata": {
        "execution": {
          "iopub.execute_input": "2023-03-16T20:50:32.293000Z",
          "iopub.status.busy": "2023-03-16T20:50:32.292646Z",
          "iopub.status.idle": "2023-03-16T20:50:32.303304Z",
          "shell.execute_reply": "2023-03-16T20:50:32.302441Z"
        },
        "papermill": {
          "duration": 0.767798,
          "end_time": "2023-03-16T20:50:32.305341",
          "exception": false,
          "start_time": "2023-03-16T20:50:31.537543",
          "status": "completed"
        },
        "tags": [],
        "id": "62b82568"
      },
      "outputs": [],
      "source": [
        "opt = Adam(learning_rate=0.001)\n",
        "model.compile(optimizer= opt,\n",
        "              loss = SparseCategoricalCrossentropy(from_logits=True),\n",
        "              metrics=['accuracy'])\n"
      ]
    },
    {
      "cell_type": "code",
      "execution_count": null,
      "id": "8c9d66c6",
      "metadata": {
        "execution": {
          "iopub.execute_input": "2023-03-16T20:50:34.000503Z",
          "iopub.status.busy": "2023-03-16T20:50:33.999939Z",
          "iopub.status.idle": "2023-03-16T21:04:10.724052Z",
          "shell.execute_reply": "2023-03-16T21:04:10.722950Z"
        },
        "papermill": {
          "duration": 817.762766,
          "end_time": "2023-03-16T21:04:10.726739",
          "exception": false,
          "start_time": "2023-03-16T20:50:32.963973",
          "status": "completed"
        },
        "tags": [],
        "id": "8c9d66c6"
      },
      "outputs": [],
      "source": [
        "epochs = 25\n",
        "history = model.fit(\n",
        "  train_ds,\n",
        "  validation_data=val_ds,\n",
        "  epochs=epochs\n",
        ")"
      ]
    },
    {
      "cell_type": "code",
      "execution_count": null,
      "id": "ad28c318",
      "metadata": {
        "execution": {
          "iopub.execute_input": "2023-03-16T21:04:12.739045Z",
          "iopub.status.busy": "2023-03-16T21:04:12.738690Z",
          "iopub.status.idle": "2023-03-16T21:04:13.069867Z",
          "shell.execute_reply": "2023-03-16T21:04:13.068955Z"
        },
        "papermill": {
          "duration": 1.289926,
          "end_time": "2023-03-16T21:04:13.072126",
          "exception": false,
          "start_time": "2023-03-16T21:04:11.782200",
          "status": "completed"
        },
        "tags": [],
        "id": "ad28c318"
      },
      "outputs": [],
      "source": [
        "acc = history.history['accuracy']\n",
        "val_acc = history.history['val_accuracy']\n",
        "\n",
        "loss = history.history['loss']\n",
        "val_loss = history.history['val_loss']\n",
        "\n",
        "epochs_range = range(epochs)\n",
        "\n",
        "plt.figure(figsize=(8, 8))\n",
        "plt.subplot(1, 2, 1)\n",
        "plt.plot(epochs_range, acc, label='Training Accuracy')\n",
        "plt.plot(epochs_range, val_acc, label='Validation Accuracy')\n",
        "plt.legend(loc='lower right')\n",
        "plt.title('Training and Validation Accuracy')\n",
        "\n",
        "plt.subplot(1, 2, 2)\n",
        "plt.plot(epochs_range, loss, label='Training Loss')\n",
        "plt.plot(epochs_range, val_loss, label='Validation Loss')\n",
        "plt.legend(loc='upper right')\n",
        "plt.title('Training and Validation Loss')\n",
        "plt.show()"
      ]
    },
    {
      "cell_type": "code",
      "execution_count": null,
      "id": "8386912a",
      "metadata": {
        "execution": {
          "iopub.execute_input": "2023-03-16T21:04:19.673692Z",
          "iopub.status.busy": "2023-03-16T21:04:19.673308Z",
          "iopub.status.idle": "2023-03-16T21:04:19.850017Z",
          "shell.execute_reply": "2023-03-16T21:04:19.848985Z"
        },
        "papermill": {
          "duration": 1.235678,
          "end_time": "2023-03-16T21:04:19.852549",
          "exception": false,
          "start_time": "2023-03-16T21:04:18.616871",
          "status": "completed"
        },
        "tags": [],
        "id": "8386912a"
      },
      "outputs": [],
      "source": [
        "model.save(\"model_full_densenet_isic18_97_88.h5\")"
      ]
    },
    {
      "cell_type": "code",
      "execution_count": null,
      "id": "3b31e77b",
      "metadata": {
        "execution": {
          "iopub.execute_input": "2023-03-16T21:04:21.972081Z",
          "iopub.status.busy": "2023-03-16T21:04:21.971716Z",
          "iopub.status.idle": "2023-03-16T21:04:27.474419Z",
          "shell.execute_reply": "2023-03-16T21:04:27.473359Z"
        },
        "papermill": {
          "duration": 6.535402,
          "end_time": "2023-03-16T21:04:27.476726",
          "exception": false,
          "start_time": "2023-03-16T21:04:20.941324",
          "status": "completed"
        },
        "tags": [],
        "id": "3b31e77b"
      },
      "outputs": [],
      "source": [
        "eval_loss, eval_accuracy = model.evaluate(test_ds, batch_size=batch_size, verbose=1)"
      ]
    }
  ],
  "metadata": {
    "kernelspec": {
      "display_name": "Python 3",
      "name": "python3"
    },
    "language_info": {
      "codemirror_mode": {
        "name": "ipython",
        "version": 3
      },
      "file_extension": ".py",
      "mimetype": "text/x-python",
      "name": "python",
      "nbconvert_exporter": "python",
      "pygments_lexer": "ipython3",
      "version": "3.7.12"
    },
    "papermill": {
      "default_parameters": {},
      "duration": 1731.898131,
      "end_time": "2023-03-16T21:04:35.900362",
      "environment_variables": {},
      "exception": null,
      "input_path": "__notebook__.ipynb",
      "output_path": "__notebook__.ipynb",
      "parameters": {},
      "start_time": "2023-03-16T20:35:44.002231",
      "version": "2.3.4"
    },
    "colab": {
      "provenance": [],
      "gpuType": "T4"
    },
    "accelerator": "GPU"
  },
  "nbformat": 4,
  "nbformat_minor": 5
}